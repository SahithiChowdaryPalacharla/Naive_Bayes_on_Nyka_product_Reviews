{
 "cells": [
  {
   "cell_type": "code",
   "execution_count": 51,
   "id": "d2df5d44",
   "metadata": {},
   "outputs": [],
   "source": [
    "import pandas as pd\n",
    "import numpy as np\n",
    "df=pd.read_csv(r\"C:\\Users\\Dell\\Downloads\\nyka_top_brands_cosmetics_product_reviews\\nyka_top_brands_cosmetics_product_reviews.csv\")"
   ]
  },
  {
   "cell_type": "code",
   "execution_count": 52,
   "id": "20d92984",
   "metadata": {},
   "outputs": [
    {
     "data": {
      "text/html": [
       "<div>\n",
       "<style scoped>\n",
       "    .dataframe tbody tr th:only-of-type {\n",
       "        vertical-align: middle;\n",
       "    }\n",
       "\n",
       "    .dataframe tbody tr th {\n",
       "        vertical-align: top;\n",
       "    }\n",
       "\n",
       "    .dataframe thead th {\n",
       "        text-align: right;\n",
       "    }\n",
       "</style>\n",
       "<table border=\"1\" class=\"dataframe\">\n",
       "  <thead>\n",
       "    <tr style=\"text-align: right;\">\n",
       "      <th></th>\n",
       "      <th>product_id</th>\n",
       "      <th>brand_name</th>\n",
       "      <th>review_id</th>\n",
       "      <th>review_title</th>\n",
       "      <th>review_text</th>\n",
       "      <th>author</th>\n",
       "      <th>review_date</th>\n",
       "      <th>review_rating</th>\n",
       "      <th>is_a_buyer</th>\n",
       "      <th>pro_user</th>\n",
       "      <th>review_label</th>\n",
       "      <th>product_title</th>\n",
       "      <th>mrp</th>\n",
       "      <th>price</th>\n",
       "      <th>product_rating</th>\n",
       "      <th>product_rating_count</th>\n",
       "      <th>product_tags</th>\n",
       "      <th>product_url</th>\n",
       "    </tr>\n",
       "  </thead>\n",
       "  <tbody>\n",
       "    <tr>\n",
       "      <th>0</th>\n",
       "      <td>781070</td>\n",
       "      <td>Olay</td>\n",
       "      <td>16752142</td>\n",
       "      <td>Worth buying 50g one</td>\n",
       "      <td>Works as it claims. Could see the difference f...</td>\n",
       "      <td>Ashton Dsouza</td>\n",
       "      <td>2021-01-23 15:17:18</td>\n",
       "      <td>5.0</td>\n",
       "      <td>True</td>\n",
       "      <td>False</td>\n",
       "      <td>Verified Buyer</td>\n",
       "      <td>Olay Ultra Lightweight Moisturiser: Luminous W...</td>\n",
       "      <td>1999</td>\n",
       "      <td>1599</td>\n",
       "      <td>4.1</td>\n",
       "      <td>43</td>\n",
       "      <td>NaN</td>\n",
       "      <td>https://www.nykaa.com/olay-ultra-lightweight-m...</td>\n",
       "    </tr>\n",
       "    <tr>\n",
       "      <th>1</th>\n",
       "      <td>781070</td>\n",
       "      <td>Olay</td>\n",
       "      <td>14682550</td>\n",
       "      <td>Best cream to start ur day</td>\n",
       "      <td>It does what it claims . Best thing is it smoo...</td>\n",
       "      <td>Amrit Neelam</td>\n",
       "      <td>2020-09-07 15:30:42</td>\n",
       "      <td>5.0</td>\n",
       "      <td>True</td>\n",
       "      <td>False</td>\n",
       "      <td>Verified Buyer</td>\n",
       "      <td>Olay Ultra Lightweight Moisturiser: Luminous W...</td>\n",
       "      <td>1999</td>\n",
       "      <td>1599</td>\n",
       "      <td>4.1</td>\n",
       "      <td>43</td>\n",
       "      <td>NaN</td>\n",
       "      <td>https://www.nykaa.com/olay-ultra-lightweight-m...</td>\n",
       "    </tr>\n",
       "    <tr>\n",
       "      <th>2</th>\n",
       "      <td>781070</td>\n",
       "      <td>Olay</td>\n",
       "      <td>15618995</td>\n",
       "      <td>perfect for summers dry for winters</td>\n",
       "      <td>I have been using this product for months now....</td>\n",
       "      <td>Sanchi Gupta</td>\n",
       "      <td>2020-11-13 12:24:14</td>\n",
       "      <td>4.0</td>\n",
       "      <td>True</td>\n",
       "      <td>False</td>\n",
       "      <td>Verified Buyer</td>\n",
       "      <td>Olay Ultra Lightweight Moisturiser: Luminous W...</td>\n",
       "      <td>1999</td>\n",
       "      <td>1599</td>\n",
       "      <td>4.1</td>\n",
       "      <td>43</td>\n",
       "      <td>NaN</td>\n",
       "      <td>https://www.nykaa.com/olay-ultra-lightweight-m...</td>\n",
       "    </tr>\n",
       "    <tr>\n",
       "      <th>3</th>\n",
       "      <td>781070</td>\n",
       "      <td>Olay</td>\n",
       "      <td>13474509</td>\n",
       "      <td>Not a moisturizer</td>\n",
       "      <td>i have an oily skin, while this whip acts as a...</td>\n",
       "      <td>Ruchi Shah</td>\n",
       "      <td>2020-06-14 11:56:50</td>\n",
       "      <td>3.0</td>\n",
       "      <td>True</td>\n",
       "      <td>False</td>\n",
       "      <td>Verified Buyer</td>\n",
       "      <td>Olay Ultra Lightweight Moisturiser: Luminous W...</td>\n",
       "      <td>1999</td>\n",
       "      <td>1599</td>\n",
       "      <td>4.1</td>\n",
       "      <td>43</td>\n",
       "      <td>NaN</td>\n",
       "      <td>https://www.nykaa.com/olay-ultra-lightweight-m...</td>\n",
       "    </tr>\n",
       "    <tr>\n",
       "      <th>4</th>\n",
       "      <td>781070</td>\n",
       "      <td>Olay</td>\n",
       "      <td>16338982</td>\n",
       "      <td>Average</td>\n",
       "      <td>It's not that good. Please refresh try for oth...</td>\n",
       "      <td>Sukanya Sarkar</td>\n",
       "      <td>2020-12-22 15:24:35</td>\n",
       "      <td>2.0</td>\n",
       "      <td>True</td>\n",
       "      <td>False</td>\n",
       "      <td>Verified Buyer</td>\n",
       "      <td>Olay Ultra Lightweight Moisturiser: Luminous W...</td>\n",
       "      <td>1999</td>\n",
       "      <td>1599</td>\n",
       "      <td>4.1</td>\n",
       "      <td>43</td>\n",
       "      <td>NaN</td>\n",
       "      <td>https://www.nykaa.com/olay-ultra-lightweight-m...</td>\n",
       "    </tr>\n",
       "  </tbody>\n",
       "</table>\n",
       "</div>"
      ],
      "text/plain": [
       "   product_id brand_name  review_id                         review_title  \\\n",
       "0      781070       Olay   16752142                 Worth buying 50g one   \n",
       "1      781070       Olay   14682550           Best cream to start ur day   \n",
       "2      781070       Olay   15618995  perfect for summers dry for winters   \n",
       "3      781070       Olay   13474509                    Not a moisturizer   \n",
       "4      781070       Olay   16338982                              Average   \n",
       "\n",
       "                                         review_text          author  \\\n",
       "0  Works as it claims. Could see the difference f...   Ashton Dsouza   \n",
       "1  It does what it claims . Best thing is it smoo...    Amrit Neelam   \n",
       "2  I have been using this product for months now....    Sanchi Gupta   \n",
       "3  i have an oily skin, while this whip acts as a...      Ruchi Shah   \n",
       "4  It's not that good. Please refresh try for oth...  Sukanya Sarkar   \n",
       "\n",
       "           review_date  review_rating  is_a_buyer  pro_user    review_label  \\\n",
       "0  2021-01-23 15:17:18            5.0        True     False  Verified Buyer   \n",
       "1  2020-09-07 15:30:42            5.0        True     False  Verified Buyer   \n",
       "2  2020-11-13 12:24:14            4.0        True     False  Verified Buyer   \n",
       "3  2020-06-14 11:56:50            3.0        True     False  Verified Buyer   \n",
       "4  2020-12-22 15:24:35            2.0        True     False  Verified Buyer   \n",
       "\n",
       "                                       product_title   mrp  price  \\\n",
       "0  Olay Ultra Lightweight Moisturiser: Luminous W...  1999   1599   \n",
       "1  Olay Ultra Lightweight Moisturiser: Luminous W...  1999   1599   \n",
       "2  Olay Ultra Lightweight Moisturiser: Luminous W...  1999   1599   \n",
       "3  Olay Ultra Lightweight Moisturiser: Luminous W...  1999   1599   \n",
       "4  Olay Ultra Lightweight Moisturiser: Luminous W...  1999   1599   \n",
       "\n",
       "   product_rating  product_rating_count product_tags  \\\n",
       "0             4.1                    43          NaN   \n",
       "1             4.1                    43          NaN   \n",
       "2             4.1                    43          NaN   \n",
       "3             4.1                    43          NaN   \n",
       "4             4.1                    43          NaN   \n",
       "\n",
       "                                         product_url  \n",
       "0  https://www.nykaa.com/olay-ultra-lightweight-m...  \n",
       "1  https://www.nykaa.com/olay-ultra-lightweight-m...  \n",
       "2  https://www.nykaa.com/olay-ultra-lightweight-m...  \n",
       "3  https://www.nykaa.com/olay-ultra-lightweight-m...  \n",
       "4  https://www.nykaa.com/olay-ultra-lightweight-m...  "
      ]
     },
     "execution_count": 52,
     "metadata": {},
     "output_type": "execute_result"
    }
   ],
   "source": [
    "df.head()"
   ]
  },
  {
   "cell_type": "code",
   "execution_count": 53,
   "id": "eb4de865",
   "metadata": {},
   "outputs": [
    {
     "data": {
      "text/plain": [
       "(61284, 18)"
      ]
     },
     "execution_count": 53,
     "metadata": {},
     "output_type": "execute_result"
    }
   ],
   "source": [
    "df.shape"
   ]
  },
  {
   "cell_type": "code",
   "execution_count": 54,
   "id": "af78d49d",
   "metadata": {},
   "outputs": [
    {
     "data": {
      "text/plain": [
       "product_id                  0\n",
       "brand_name                  0\n",
       "review_id                   0\n",
       "review_title                0\n",
       "review_text                 8\n",
       "author                      0\n",
       "review_date                 0\n",
       "review_rating               1\n",
       "is_a_buyer                  0\n",
       "pro_user                    0\n",
       "review_label            13035\n",
       "product_title               0\n",
       "mrp                         0\n",
       "price                       0\n",
       "product_rating              0\n",
       "product_rating_count        0\n",
       "product_tags            47782\n",
       "product_url                 0\n",
       "dtype: int64"
      ]
     },
     "execution_count": 54,
     "metadata": {},
     "output_type": "execute_result"
    }
   ],
   "source": [
    "df.isnull().sum()"
   ]
  },
  {
   "cell_type": "code",
   "execution_count": 55,
   "id": "207472a1",
   "metadata": {},
   "outputs": [
    {
     "data": {
      "text/plain": [
       "8"
      ]
     },
     "execution_count": 55,
     "metadata": {},
     "output_type": "execute_result"
    }
   ],
   "source": [
    "df[\"review_text\"].isnull().sum()"
   ]
  },
  {
   "cell_type": "code",
   "execution_count": 56,
   "id": "d1cef6a0",
   "metadata": {},
   "outputs": [],
   "source": [
    "df.dropna(subset=\"review_text\",inplace=True)"
   ]
  },
  {
   "cell_type": "code",
   "execution_count": 57,
   "id": "48092c05",
   "metadata": {},
   "outputs": [],
   "source": [
    "def fun(x):\n",
    "    if x>3:\n",
    "        return \"positive\"\n",
    "    elif x<3:\n",
    "        return \"negative\"\n",
    "    else:\n",
    "        return \"neutral\"  "
   ]
  },
  {
   "cell_type": "code",
   "execution_count": 58,
   "id": "4d882513",
   "metadata": {},
   "outputs": [],
   "source": [
    "l=list(map(fun,df[\"review_rating\"]))"
   ]
  },
  {
   "cell_type": "code",
   "execution_count": 59,
   "id": "3240d6b2",
   "metadata": {},
   "outputs": [],
   "source": [
    "df[\"polarity\"]=l"
   ]
  },
  {
   "cell_type": "code",
   "execution_count": 60,
   "id": "6745ec06",
   "metadata": {},
   "outputs": [
    {
     "data": {
      "text/plain": [
       "(61276, 19)"
      ]
     },
     "execution_count": 60,
     "metadata": {},
     "output_type": "execute_result"
    }
   ],
   "source": [
    "df.shape"
   ]
  },
  {
   "cell_type": "code",
   "execution_count": 61,
   "id": "5cf544f0",
   "metadata": {},
   "outputs": [
    {
     "data": {
      "text/plain": [
       "0    positive\n",
       "1    positive\n",
       "2    positive\n",
       "3     neutral\n",
       "4    negative\n",
       "Name: polarity, dtype: object"
      ]
     },
     "execution_count": 61,
     "metadata": {},
     "output_type": "execute_result"
    }
   ],
   "source": [
    "df[\"polarity\"].head()"
   ]
  },
  {
   "cell_type": "code",
   "execution_count": 62,
   "id": "dc9be844",
   "metadata": {},
   "outputs": [
    {
     "name": "stdout",
     "output_type": "stream",
     "text": [
      "<class 'pandas.core.frame.DataFrame'>\n",
      "Int64Index: 61276 entries, 0 to 61283\n",
      "Data columns (total 19 columns):\n",
      " #   Column                Non-Null Count  Dtype  \n",
      "---  ------                --------------  -----  \n",
      " 0   product_id            61276 non-null  int64  \n",
      " 1   brand_name            61276 non-null  object \n",
      " 2   review_id             61276 non-null  int64  \n",
      " 3   review_title          61276 non-null  object \n",
      " 4   review_text           61276 non-null  object \n",
      " 5   author                61276 non-null  object \n",
      " 6   review_date           61276 non-null  object \n",
      " 7   review_rating         61275 non-null  float64\n",
      " 8   is_a_buyer            61276 non-null  bool   \n",
      " 9   pro_user              61276 non-null  bool   \n",
      " 10  review_label          48241 non-null  object \n",
      " 11  product_title         61276 non-null  object \n",
      " 12  mrp                   61276 non-null  int64  \n",
      " 13  price                 61276 non-null  int64  \n",
      " 14  product_rating        61276 non-null  float64\n",
      " 15  product_rating_count  61276 non-null  int64  \n",
      " 16  product_tags          13499 non-null  object \n",
      " 17  product_url           61276 non-null  object \n",
      " 18  polarity              61276 non-null  object \n",
      "dtypes: bool(2), float64(2), int64(5), object(10)\n",
      "memory usage: 8.5+ MB\n"
     ]
    }
   ],
   "source": [
    "df.info()"
   ]
  },
  {
   "cell_type": "code",
   "execution_count": 63,
   "id": "801bcbf1",
   "metadata": {},
   "outputs": [],
   "source": [
    "f_v=df[[\"review_text\"]]"
   ]
  },
  {
   "cell_type": "code",
   "execution_count": 64,
   "id": "1a967e60",
   "metadata": {},
   "outputs": [
    {
     "data": {
      "text/plain": [
       "pandas.core.frame.DataFrame"
      ]
     },
     "execution_count": 64,
     "metadata": {},
     "output_type": "execute_result"
    }
   ],
   "source": [
    "type(f_v)"
   ]
  },
  {
   "cell_type": "code",
   "execution_count": 65,
   "id": "c2deda90",
   "metadata": {},
   "outputs": [
    {
     "data": {
      "text/html": [
       "<div>\n",
       "<style scoped>\n",
       "    .dataframe tbody tr th:only-of-type {\n",
       "        vertical-align: middle;\n",
       "    }\n",
       "\n",
       "    .dataframe tbody tr th {\n",
       "        vertical-align: top;\n",
       "    }\n",
       "\n",
       "    .dataframe thead th {\n",
       "        text-align: right;\n",
       "    }\n",
       "</style>\n",
       "<table border=\"1\" class=\"dataframe\">\n",
       "  <thead>\n",
       "    <tr style=\"text-align: right;\">\n",
       "      <th></th>\n",
       "      <th>review_text</th>\n",
       "    </tr>\n",
       "  </thead>\n",
       "  <tbody>\n",
       "    <tr>\n",
       "      <th>0</th>\n",
       "      <td>Works as it claims. Could see the difference f...</td>\n",
       "    </tr>\n",
       "    <tr>\n",
       "      <th>1</th>\n",
       "      <td>It does what it claims . Best thing is it smoo...</td>\n",
       "    </tr>\n",
       "    <tr>\n",
       "      <th>2</th>\n",
       "      <td>I have been using this product for months now....</td>\n",
       "    </tr>\n",
       "    <tr>\n",
       "      <th>3</th>\n",
       "      <td>i have an oily skin, while this whip acts as a...</td>\n",
       "    </tr>\n",
       "    <tr>\n",
       "      <th>4</th>\n",
       "      <td>It's not that good. Please refresh try for oth...</td>\n",
       "    </tr>\n",
       "  </tbody>\n",
       "</table>\n",
       "</div>"
      ],
      "text/plain": [
       "                                         review_text\n",
       "0  Works as it claims. Could see the difference f...\n",
       "1  It does what it claims . Best thing is it smoo...\n",
       "2  I have been using this product for months now....\n",
       "3  i have an oily skin, while this whip acts as a...\n",
       "4  It's not that good. Please refresh try for oth..."
      ]
     },
     "execution_count": 65,
     "metadata": {},
     "output_type": "execute_result"
    }
   ],
   "source": [
    "f_v.head()"
   ]
  },
  {
   "cell_type": "code",
   "execution_count": 66,
   "id": "ffa29a30",
   "metadata": {},
   "outputs": [],
   "source": [
    "c_1=df[[\"polarity\"]]"
   ]
  },
  {
   "cell_type": "code",
   "execution_count": 67,
   "id": "483afc9e",
   "metadata": {},
   "outputs": [
    {
     "data": {
      "text/html": [
       "<div>\n",
       "<style scoped>\n",
       "    .dataframe tbody tr th:only-of-type {\n",
       "        vertical-align: middle;\n",
       "    }\n",
       "\n",
       "    .dataframe tbody tr th {\n",
       "        vertical-align: top;\n",
       "    }\n",
       "\n",
       "    .dataframe thead th {\n",
       "        text-align: right;\n",
       "    }\n",
       "</style>\n",
       "<table border=\"1\" class=\"dataframe\">\n",
       "  <thead>\n",
       "    <tr style=\"text-align: right;\">\n",
       "      <th></th>\n",
       "      <th>polarity</th>\n",
       "    </tr>\n",
       "  </thead>\n",
       "  <tbody>\n",
       "    <tr>\n",
       "      <th>0</th>\n",
       "      <td>positive</td>\n",
       "    </tr>\n",
       "    <tr>\n",
       "      <th>1</th>\n",
       "      <td>positive</td>\n",
       "    </tr>\n",
       "    <tr>\n",
       "      <th>2</th>\n",
       "      <td>positive</td>\n",
       "    </tr>\n",
       "    <tr>\n",
       "      <th>3</th>\n",
       "      <td>neutral</td>\n",
       "    </tr>\n",
       "    <tr>\n",
       "      <th>4</th>\n",
       "      <td>negative</td>\n",
       "    </tr>\n",
       "  </tbody>\n",
       "</table>\n",
       "</div>"
      ],
      "text/plain": [
       "   polarity\n",
       "0  positive\n",
       "1  positive\n",
       "2  positive\n",
       "3   neutral\n",
       "4  negative"
      ]
     },
     "execution_count": 67,
     "metadata": {},
     "output_type": "execute_result"
    }
   ],
   "source": [
    "c_1.head()"
   ]
  },
  {
   "cell_type": "code",
   "execution_count": 68,
   "id": "e13bf579",
   "metadata": {},
   "outputs": [],
   "source": [
    "import nltk\n",
    "from nltk.tokenize import word_tokenize,sent_tokenize\n",
    "from nltk.corpus import stopwords\n",
    "from nltk.stem import PorterStemmer,LancasterStemmer,SnowballStemmer,WordNetLemmatizer\n",
    "import re"
   ]
  },
  {
   "cell_type": "code",
   "execution_count": 69,
   "id": "4afc094b",
   "metadata": {},
   "outputs": [],
   "source": [
    "stp=stopwords.words(\"english\")"
   ]
  },
  {
   "cell_type": "code",
   "execution_count": 70,
   "id": "66976779",
   "metadata": {},
   "outputs": [
    {
     "data": {
      "text/plain": [
       "['i',\n",
       " 'me',\n",
       " 'my',\n",
       " 'myself',\n",
       " 'we',\n",
       " 'our',\n",
       " 'ours',\n",
       " 'ourselves',\n",
       " 'you',\n",
       " \"you're\",\n",
       " \"you've\",\n",
       " \"you'll\",\n",
       " \"you'd\",\n",
       " 'your',\n",
       " 'yours',\n",
       " 'yourself',\n",
       " 'yourselves',\n",
       " 'he',\n",
       " 'him',\n",
       " 'his',\n",
       " 'himself',\n",
       " 'she',\n",
       " \"she's\",\n",
       " 'her',\n",
       " 'hers',\n",
       " 'herself',\n",
       " 'it',\n",
       " \"it's\",\n",
       " 'its',\n",
       " 'itself',\n",
       " 'they',\n",
       " 'them',\n",
       " 'their',\n",
       " 'theirs',\n",
       " 'themselves',\n",
       " 'what',\n",
       " 'which',\n",
       " 'who',\n",
       " 'whom',\n",
       " 'this',\n",
       " 'that',\n",
       " \"that'll\",\n",
       " 'these',\n",
       " 'those',\n",
       " 'am',\n",
       " 'is',\n",
       " 'are',\n",
       " 'was',\n",
       " 'were',\n",
       " 'be',\n",
       " 'been',\n",
       " 'being',\n",
       " 'have',\n",
       " 'has',\n",
       " 'had',\n",
       " 'having',\n",
       " 'do',\n",
       " 'does',\n",
       " 'did',\n",
       " 'doing',\n",
       " 'a',\n",
       " 'an',\n",
       " 'the',\n",
       " 'and',\n",
       " 'but',\n",
       " 'if',\n",
       " 'or',\n",
       " 'because',\n",
       " 'as',\n",
       " 'until',\n",
       " 'while',\n",
       " 'of',\n",
       " 'at',\n",
       " 'by',\n",
       " 'for',\n",
       " 'with',\n",
       " 'about',\n",
       " 'against',\n",
       " 'between',\n",
       " 'into',\n",
       " 'through',\n",
       " 'during',\n",
       " 'before',\n",
       " 'after',\n",
       " 'above',\n",
       " 'below',\n",
       " 'to',\n",
       " 'from',\n",
       " 'up',\n",
       " 'down',\n",
       " 'in',\n",
       " 'out',\n",
       " 'on',\n",
       " 'off',\n",
       " 'over',\n",
       " 'under',\n",
       " 'again',\n",
       " 'further',\n",
       " 'then',\n",
       " 'once',\n",
       " 'here',\n",
       " 'there',\n",
       " 'when',\n",
       " 'where',\n",
       " 'why',\n",
       " 'how',\n",
       " 'all',\n",
       " 'any',\n",
       " 'both',\n",
       " 'each',\n",
       " 'few',\n",
       " 'more',\n",
       " 'most',\n",
       " 'other',\n",
       " 'some',\n",
       " 'such',\n",
       " 'no',\n",
       " 'nor',\n",
       " 'not',\n",
       " 'only',\n",
       " 'own',\n",
       " 'same',\n",
       " 'so',\n",
       " 'than',\n",
       " 'too',\n",
       " 'very',\n",
       " 's',\n",
       " 't',\n",
       " 'can',\n",
       " 'will',\n",
       " 'just',\n",
       " 'don',\n",
       " \"don't\",\n",
       " 'should',\n",
       " \"should've\",\n",
       " 'now',\n",
       " 'd',\n",
       " 'll',\n",
       " 'm',\n",
       " 'o',\n",
       " 're',\n",
       " 've',\n",
       " 'y',\n",
       " 'ain',\n",
       " 'aren',\n",
       " \"aren't\",\n",
       " 'couldn',\n",
       " \"couldn't\",\n",
       " 'didn',\n",
       " \"didn't\",\n",
       " 'doesn',\n",
       " \"doesn't\",\n",
       " 'hadn',\n",
       " \"hadn't\",\n",
       " 'hasn',\n",
       " \"hasn't\",\n",
       " 'haven',\n",
       " \"haven't\",\n",
       " 'isn',\n",
       " \"isn't\",\n",
       " 'ma',\n",
       " 'mightn',\n",
       " \"mightn't\",\n",
       " 'mustn',\n",
       " \"mustn't\",\n",
       " 'needn',\n",
       " \"needn't\",\n",
       " 'shan',\n",
       " \"shan't\",\n",
       " 'shouldn',\n",
       " \"shouldn't\",\n",
       " 'wasn',\n",
       " \"wasn't\",\n",
       " 'weren',\n",
       " \"weren't\",\n",
       " 'won',\n",
       " \"won't\",\n",
       " 'wouldn',\n",
       " \"wouldn't\"]"
      ]
     },
     "execution_count": 70,
     "metadata": {},
     "output_type": "execute_result"
    }
   ],
   "source": [
    "stp"
   ]
  },
  {
   "cell_type": "code",
   "execution_count": 71,
   "id": "c0179364",
   "metadata": {},
   "outputs": [],
   "source": [
    "lf=[]\n",
    "for sent in f_v[\"review_text\"]:\n",
    "    l=[]\n",
    "    var1=str(sent).lower()\n",
    "    var1=re.sub(\"[<.*?>]\",\"\",var1)\n",
    "    var1=re.sub(\"https?//\\S*|www\\S*\",\"\",var1)\n",
    "    var1=re.sub(\"[^a-z ]\",\"\",var1)\n",
    "    for word in word_tokenize(var1):\n",
    "        if word in stp :\n",
    "            pass\n",
    "        else:\n",
    "            stems=PorterStemmer().stem(word)\n",
    "            l.append(stems)\n",
    "    lf.append(\" \".join(l)) "
   ]
  },
  {
   "cell_type": "code",
   "execution_count": 72,
   "id": "aa40f29d",
   "metadata": {
    "scrolled": true
   },
   "outputs": [
    {
     "name": "stderr",
     "output_type": "stream",
     "text": [
      "C:\\Users\\Dell\\AppData\\Local\\Temp\\ipykernel_7452\\4159547345.py:1: SettingWithCopyWarning: \n",
      "A value is trying to be set on a copy of a slice from a DataFrame.\n",
      "Try using .loc[row_indexer,col_indexer] = value instead\n",
      "\n",
      "See the caveats in the documentation: https://pandas.pydata.org/pandas-docs/stable/user_guide/indexing.html#returning-a-view-versus-a-copy\n",
      "  f_v[\"review_text\"]=pd.DataFrame({\"review_text\":lf})\n"
     ]
    }
   ],
   "source": [
    "f_v[\"review_text\"]=pd.DataFrame({\"review_text\":lf})"
   ]
  },
  {
   "cell_type": "code",
   "execution_count": 73,
   "id": "428f04e5",
   "metadata": {},
   "outputs": [
    {
     "data": {
      "text/html": [
       "<div>\n",
       "<style scoped>\n",
       "    .dataframe tbody tr th:only-of-type {\n",
       "        vertical-align: middle;\n",
       "    }\n",
       "\n",
       "    .dataframe tbody tr th {\n",
       "        vertical-align: top;\n",
       "    }\n",
       "\n",
       "    .dataframe thead th {\n",
       "        text-align: right;\n",
       "    }\n",
       "</style>\n",
       "<table border=\"1\" class=\"dataframe\">\n",
       "  <thead>\n",
       "    <tr style=\"text-align: right;\">\n",
       "      <th></th>\n",
       "      <th>review_text</th>\n",
       "    </tr>\n",
       "  </thead>\n",
       "  <tbody>\n",
       "    <tr>\n",
       "      <th>0</th>\n",
       "      <td>work claim could see differ first day use olay...</td>\n",
       "    </tr>\n",
       "    <tr>\n",
       "      <th>1</th>\n",
       "      <td>claim best thing smoothen ur skin n make soft ...</td>\n",
       "    </tr>\n",
       "    <tr>\n",
       "      <th>2</th>\n",
       "      <td>use product month perfect combin n oili skin n...</td>\n",
       "    </tr>\n",
       "    <tr>\n",
       "      <th>3</th>\n",
       "      <td>oili skin whip act great base primer smoothen ...</td>\n",
       "    </tr>\n",
       "    <tr>\n",
       "      <th>4</th>\n",
       "      <td>good pleas refresh tri product</td>\n",
       "    </tr>\n",
       "  </tbody>\n",
       "</table>\n",
       "</div>"
      ],
      "text/plain": [
       "                                         review_text\n",
       "0  work claim could see differ first day use olay...\n",
       "1  claim best thing smoothen ur skin n make soft ...\n",
       "2  use product month perfect combin n oili skin n...\n",
       "3  oili skin whip act great base primer smoothen ...\n",
       "4                     good pleas refresh tri product"
      ]
     },
     "execution_count": 73,
     "metadata": {},
     "output_type": "execute_result"
    }
   ],
   "source": [
    "f_v.head()"
   ]
  },
  {
   "cell_type": "code",
   "execution_count": 74,
   "id": "5f9b131e",
   "metadata": {},
   "outputs": [],
   "source": [
    "from sklearn.model_selection import train_test_split"
   ]
  },
  {
   "cell_type": "code",
   "execution_count": 75,
   "id": "a8d8c714",
   "metadata": {},
   "outputs": [],
   "source": [
    "x_train,x_test,y_train,y_test=train_test_split(f_v,c_1,train_size=0.8)"
   ]
  },
  {
   "cell_type": "code",
   "execution_count": 76,
   "id": "6324550a",
   "metadata": {},
   "outputs": [
    {
     "data": {
      "text/plain": [
       "(49020, 1)"
      ]
     },
     "execution_count": 76,
     "metadata": {},
     "output_type": "execute_result"
    }
   ],
   "source": [
    "x_train.shape"
   ]
  },
  {
   "cell_type": "code",
   "execution_count": 77,
   "id": "8835d59b",
   "metadata": {},
   "outputs": [
    {
     "data": {
      "text/plain": [
       "(49020, 1)"
      ]
     },
     "execution_count": 77,
     "metadata": {},
     "output_type": "execute_result"
    }
   ],
   "source": [
    "y_train.shape"
   ]
  },
  {
   "cell_type": "code",
   "execution_count": 78,
   "id": "24a7d6db",
   "metadata": {},
   "outputs": [
    {
     "data": {
      "text/plain": [
       "(12256, 1)"
      ]
     },
     "execution_count": 78,
     "metadata": {},
     "output_type": "execute_result"
    }
   ],
   "source": [
    "x_test.shape"
   ]
  },
  {
   "cell_type": "code",
   "execution_count": 79,
   "id": "f130afc0",
   "metadata": {},
   "outputs": [
    {
     "data": {
      "text/plain": [
       "(12256, 1)"
      ]
     },
     "execution_count": 79,
     "metadata": {},
     "output_type": "execute_result"
    }
   ],
   "source": [
    "y_test.shape"
   ]
  },
  {
   "cell_type": "code",
   "execution_count": 80,
   "id": "eb527e7e",
   "metadata": {},
   "outputs": [
    {
     "data": {
      "text/plain": [
       "review_text    8\n",
       "dtype: int64"
      ]
     },
     "execution_count": 80,
     "metadata": {},
     "output_type": "execute_result"
    }
   ],
   "source": [
    "x_train.isnull().sum()"
   ]
  },
  {
   "cell_type": "code",
   "execution_count": 81,
   "id": "83f094c3",
   "metadata": {},
   "outputs": [],
   "source": [
    "x_train[\"review_text\"]=x_train[\"review_text\"].fillna(\"reviews\")"
   ]
  },
  {
   "cell_type": "code",
   "execution_count": 83,
   "id": "99e7880a",
   "metadata": {},
   "outputs": [
    {
     "data": {
      "text/plain": [
       "review_text    0\n",
       "dtype: int64"
      ]
     },
     "execution_count": 83,
     "metadata": {},
     "output_type": "execute_result"
    }
   ],
   "source": [
    "x_train.isnull().sum()"
   ]
  },
  {
   "cell_type": "code",
   "execution_count": 82,
   "id": "b3d424f6",
   "metadata": {},
   "outputs": [
    {
     "data": {
      "text/plain": [
       "review_text    0\n",
       "dtype: int64"
      ]
     },
     "execution_count": 82,
     "metadata": {},
     "output_type": "execute_result"
    }
   ],
   "source": [
    "x_test.isnull().sum()"
   ]
  },
  {
   "cell_type": "code",
   "execution_count": 84,
   "id": "36e7b84c",
   "metadata": {},
   "outputs": [],
   "source": [
    "from sklearn.feature_extraction.text import CountVectorizer\n",
    "cv = CountVectorizer()\n",
    "dtm=cv.fit_transform(x_train[\"review_text\"])"
   ]
  },
  {
   "cell_type": "code",
   "execution_count": 85,
   "id": "d96d6133",
   "metadata": {},
   "outputs": [],
   "source": [
    "from sklearn.naive_bayes import MultinomialNB"
   ]
  },
  {
   "cell_type": "code",
   "execution_count": 86,
   "id": "71cf2449",
   "metadata": {},
   "outputs": [],
   "source": [
    "mnb=MultinomialNB()"
   ]
  },
  {
   "cell_type": "code",
   "execution_count": 87,
   "id": "1872f0f4",
   "metadata": {},
   "outputs": [
    {
     "name": "stderr",
     "output_type": "stream",
     "text": [
      "C:\\Users\\Dell\\anaconda3\\lib\\site-packages\\sklearn\\utils\\validation.py:1111: DataConversionWarning: A column-vector y was passed when a 1d array was expected. Please change the shape of y to (n_samples, ), for example using ravel().\n",
      "  y = column_or_1d(y, warn=True)\n"
     ]
    }
   ],
   "source": [
    "model=mnb.fit(dtm,y_train)"
   ]
  },
  {
   "cell_type": "code",
   "execution_count": 88,
   "id": "3642a110",
   "metadata": {},
   "outputs": [
    {
     "data": {
      "text/html": [
       "<style>#sk-container-id-1 {color: black;background-color: white;}#sk-container-id-1 pre{padding: 0;}#sk-container-id-1 div.sk-toggleable {background-color: white;}#sk-container-id-1 label.sk-toggleable__label {cursor: pointer;display: block;width: 100%;margin-bottom: 0;padding: 0.3em;box-sizing: border-box;text-align: center;}#sk-container-id-1 label.sk-toggleable__label-arrow:before {content: \"▸\";float: left;margin-right: 0.25em;color: #696969;}#sk-container-id-1 label.sk-toggleable__label-arrow:hover:before {color: black;}#sk-container-id-1 div.sk-estimator:hover label.sk-toggleable__label-arrow:before {color: black;}#sk-container-id-1 div.sk-toggleable__content {max-height: 0;max-width: 0;overflow: hidden;text-align: left;background-color: #f0f8ff;}#sk-container-id-1 div.sk-toggleable__content pre {margin: 0.2em;color: black;border-radius: 0.25em;background-color: #f0f8ff;}#sk-container-id-1 input.sk-toggleable__control:checked~div.sk-toggleable__content {max-height: 200px;max-width: 100%;overflow: auto;}#sk-container-id-1 input.sk-toggleable__control:checked~label.sk-toggleable__label-arrow:before {content: \"▾\";}#sk-container-id-1 div.sk-estimator input.sk-toggleable__control:checked~label.sk-toggleable__label {background-color: #d4ebff;}#sk-container-id-1 div.sk-label input.sk-toggleable__control:checked~label.sk-toggleable__label {background-color: #d4ebff;}#sk-container-id-1 input.sk-hidden--visually {border: 0;clip: rect(1px 1px 1px 1px);clip: rect(1px, 1px, 1px, 1px);height: 1px;margin: -1px;overflow: hidden;padding: 0;position: absolute;width: 1px;}#sk-container-id-1 div.sk-estimator {font-family: monospace;background-color: #f0f8ff;border: 1px dotted black;border-radius: 0.25em;box-sizing: border-box;margin-bottom: 0.5em;}#sk-container-id-1 div.sk-estimator:hover {background-color: #d4ebff;}#sk-container-id-1 div.sk-parallel-item::after {content: \"\";width: 100%;border-bottom: 1px solid gray;flex-grow: 1;}#sk-container-id-1 div.sk-label:hover label.sk-toggleable__label {background-color: #d4ebff;}#sk-container-id-1 div.sk-serial::before {content: \"\";position: absolute;border-left: 1px solid gray;box-sizing: border-box;top: 0;bottom: 0;left: 50%;z-index: 0;}#sk-container-id-1 div.sk-serial {display: flex;flex-direction: column;align-items: center;background-color: white;padding-right: 0.2em;padding-left: 0.2em;position: relative;}#sk-container-id-1 div.sk-item {position: relative;z-index: 1;}#sk-container-id-1 div.sk-parallel {display: flex;align-items: stretch;justify-content: center;background-color: white;position: relative;}#sk-container-id-1 div.sk-item::before, #sk-container-id-1 div.sk-parallel-item::before {content: \"\";position: absolute;border-left: 1px solid gray;box-sizing: border-box;top: 0;bottom: 0;left: 50%;z-index: -1;}#sk-container-id-1 div.sk-parallel-item {display: flex;flex-direction: column;z-index: 1;position: relative;background-color: white;}#sk-container-id-1 div.sk-parallel-item:first-child::after {align-self: flex-end;width: 50%;}#sk-container-id-1 div.sk-parallel-item:last-child::after {align-self: flex-start;width: 50%;}#sk-container-id-1 div.sk-parallel-item:only-child::after {width: 0;}#sk-container-id-1 div.sk-dashed-wrapped {border: 1px dashed gray;margin: 0 0.4em 0.5em 0.4em;box-sizing: border-box;padding-bottom: 0.4em;background-color: white;}#sk-container-id-1 div.sk-label label {font-family: monospace;font-weight: bold;display: inline-block;line-height: 1.2em;}#sk-container-id-1 div.sk-label-container {text-align: center;}#sk-container-id-1 div.sk-container {/* jupyter's `normalize.less` sets `[hidden] { display: none; }` but bootstrap.min.css set `[hidden] { display: none !important; }` so we also need the `!important` here to be able to override the default hidden behavior on the sphinx rendered scikit-learn.org. See: https://github.com/scikit-learn/scikit-learn/issues/21755 */display: inline-block !important;position: relative;}#sk-container-id-1 div.sk-text-repr-fallback {display: none;}</style><div id=\"sk-container-id-1\" class=\"sk-top-container\"><div class=\"sk-text-repr-fallback\"><pre>MultinomialNB()</pre><b>In a Jupyter environment, please rerun this cell to show the HTML representation or trust the notebook. <br />On GitHub, the HTML representation is unable to render, please try loading this page with nbviewer.org.</b></div><div class=\"sk-container\" hidden><div class=\"sk-item\"><div class=\"sk-estimator sk-toggleable\"><input class=\"sk-toggleable__control sk-hidden--visually\" id=\"sk-estimator-id-1\" type=\"checkbox\" checked><label for=\"sk-estimator-id-1\" class=\"sk-toggleable__label sk-toggleable__label-arrow\">MultinomialNB</label><div class=\"sk-toggleable__content\"><pre>MultinomialNB()</pre></div></div></div></div></div>"
      ],
      "text/plain": [
       "MultinomialNB()"
      ]
     },
     "execution_count": 88,
     "metadata": {},
     "output_type": "execute_result"
    }
   ],
   "source": [
    "model"
   ]
  },
  {
   "cell_type": "code",
   "execution_count": 89,
   "id": "87cf2393",
   "metadata": {},
   "outputs": [
    {
     "data": {
      "text/html": [
       "<div>\n",
       "<style scoped>\n",
       "    .dataframe tbody tr th:only-of-type {\n",
       "        vertical-align: middle;\n",
       "    }\n",
       "\n",
       "    .dataframe tbody tr th {\n",
       "        vertical-align: top;\n",
       "    }\n",
       "\n",
       "    .dataframe thead th {\n",
       "        text-align: right;\n",
       "    }\n",
       "</style>\n",
       "<table border=\"1\" class=\"dataframe\">\n",
       "  <thead>\n",
       "    <tr style=\"text-align: right;\">\n",
       "      <th></th>\n",
       "      <th>review_text</th>\n",
       "    </tr>\n",
       "  </thead>\n",
       "  <tbody>\n",
       "    <tr>\n",
       "      <th>611</th>\n",
       "      <td>okk ok product much effect</td>\n",
       "    </tr>\n",
       "    <tr>\n",
       "      <th>14952</th>\n",
       "      <td>tri shade rang beauti</td>\n",
       "    </tr>\n",
       "    <tr>\n",
       "      <th>22660</th>\n",
       "      <td>perfect nude lip natur deep purpl littl pink p...</td>\n",
       "    </tr>\n",
       "    <tr>\n",
       "      <th>32409</th>\n",
       "      <td>nice product love shade nice matt lipstick aff...</td>\n",
       "    </tr>\n",
       "    <tr>\n",
       "      <th>434</th>\n",
       "      <td>great productthos suffer acn doubtlessli go ge...</td>\n",
       "    </tr>\n",
       "    <tr>\n",
       "      <th>...</th>\n",
       "      <td>...</td>\n",
       "    </tr>\n",
       "    <tr>\n",
       "      <th>39948</th>\n",
       "      <td>never got acn face use product skin start brea...</td>\n",
       "    </tr>\n",
       "    <tr>\n",
       "      <th>54231</th>\n",
       "      <td>pigment good</td>\n",
       "    </tr>\n",
       "    <tr>\n",
       "      <th>40672</th>\n",
       "      <td>must tri</td>\n",
       "    </tr>\n",
       "    <tr>\n",
       "      <th>53078</th>\n",
       "      <td>neither give full coverag last hour wont buy</td>\n",
       "    </tr>\n",
       "    <tr>\n",
       "      <th>7031</th>\n",
       "      <td>color textur tint thing good cardboard packag ...</td>\n",
       "    </tr>\n",
       "  </tbody>\n",
       "</table>\n",
       "<p>12256 rows × 1 columns</p>\n",
       "</div>"
      ],
      "text/plain": [
       "                                             review_text\n",
       "611                           okk ok product much effect\n",
       "14952                              tri shade rang beauti\n",
       "22660  perfect nude lip natur deep purpl littl pink p...\n",
       "32409  nice product love shade nice matt lipstick aff...\n",
       "434    great productthos suffer acn doubtlessli go ge...\n",
       "...                                                  ...\n",
       "39948  never got acn face use product skin start brea...\n",
       "54231                                       pigment good\n",
       "40672                                           must tri\n",
       "53078       neither give full coverag last hour wont buy\n",
       "7031   color textur tint thing good cardboard packag ...\n",
       "\n",
       "[12256 rows x 1 columns]"
      ]
     },
     "execution_count": 89,
     "metadata": {},
     "output_type": "execute_result"
    }
   ],
   "source": [
    "x_test"
   ]
  },
  {
   "cell_type": "code",
   "execution_count": 90,
   "id": "9d1b1771",
   "metadata": {},
   "outputs": [],
   "source": [
    "x_test1=cv.transform(x_test[\"review_text\"])"
   ]
  },
  {
   "cell_type": "code",
   "execution_count": 91,
   "id": "76418d74",
   "metadata": {},
   "outputs": [],
   "source": [
    "predicts=model.predict(x_test1)"
   ]
  },
  {
   "cell_type": "code",
   "execution_count": 92,
   "id": "741c25a6",
   "metadata": {},
   "outputs": [],
   "source": [
    "from sklearn.metrics import accuracy_score"
   ]
  },
  {
   "cell_type": "code",
   "execution_count": 93,
   "id": "5ca28fbb",
   "metadata": {},
   "outputs": [
    {
     "data": {
      "text/plain": [
       "0.8735313315926893"
      ]
     },
     "execution_count": 93,
     "metadata": {},
     "output_type": "execute_result"
    }
   ],
   "source": [
    "accuracy_score(y_test,predicts)"
   ]
  },
  {
   "cell_type": "code",
   "execution_count": null,
   "id": "2b08e4cd",
   "metadata": {},
   "outputs": [],
   "source": []
  }
 ],
 "metadata": {
  "kernelspec": {
   "display_name": "Python 3 (ipykernel)",
   "language": "python",
   "name": "python3"
  },
  "language_info": {
   "codemirror_mode": {
    "name": "ipython",
    "version": 3
   },
   "file_extension": ".py",
   "mimetype": "text/x-python",
   "name": "python",
   "nbconvert_exporter": "python",
   "pygments_lexer": "ipython3",
   "version": "3.9.12"
  }
 },
 "nbformat": 4,
 "nbformat_minor": 5
}
